{
 "cells": [
  {
   "cell_type": "code",
   "execution_count": 4,
   "metadata": {},
   "outputs": [
    {
     "name": "stdout",
     "output_type": "stream",
     "text": [
      "15\n"
     ]
    }
   ],
   "source": [
    "# 1.Read 2 variables, named A and B and make the sum of these two variables, assigning its result to the variable X. Print X.\n",
    "\n",
    "A = 5\n",
    "B = 10\n",
    "X = A+B\n",
    "print(X)"
   ]
  },
  {
   "cell_type": "code",
   "execution_count": 19,
   "metadata": {},
   "outputs": [
    {
     "name": "stdout",
     "output_type": "stream",
     "text": [
      "Input the radius of the circle : 4\n",
      "The area of the circle with radius 4.0 is: 50.26548245743669\n"
     ]
    }
   ],
   "source": [
    "# 2. The formula to calculate the area of a circumference is defined as A = π . R2. Considering this problem that π = 3.14159. Calculate the area using the formula given in the problem description.\n",
    "\n",
    "from math import pi\n",
    "r = float(input (\"Input the radius of the circle : \"))\n",
    "print (\"The area of the circle with radius \" + str(r) + \" is: \" + str(pi * r**2)) "
   ]
  },
  {
   "cell_type": "code",
   "execution_count": 22,
   "metadata": {},
   "outputs": [
    {
     "name": "stdout",
     "output_type": "stream",
     "text": [
      "3.4\n",
      "4.5\n",
      "MEDIA = 4.1\n"
     ]
    }
   ],
   "source": [
    "# 3.Read two floating points' values of double precision A and B, corresponding to two student's grades. After this, calculate the student's average, considering that grade A has weight 3.5 and B has weight 7.5. Each grade can be from zero to ten, always with one digit after the decimal point.\n",
    "\n",
    "A = float(input())\n",
    "B = float(input())\n",
    "\n",
    "media = (((A * 3.5) + (B * 7.5)) / 11)\n",
    "\n",
    "print(\"MEDIA = %0.1f\" %media)\n"
   ]
  },
  {
   "cell_type": "code",
   "execution_count": 28,
   "metadata": {},
   "outputs": [
    {
     "name": "stdout",
     "output_type": "stream",
     "text": [
      "3\n",
      "4\n",
      "5\n",
      "MEDIA = 20.5\n"
     ]
    }
   ],
   "source": [
    "# 4. Read three values (variables A, B and C), which are the three student's grades. Then, calculate the average, considering that grade A has weight 2, grade B has weight 3 and the grade C has weight 5. Consider that each grade can go from 0 to 10.0, always with one decimal place.\n",
    "\n",
    "A = float(input())\n",
    "B = float(input())\n",
    "C = float(input())\n",
    "\n",
    "media = ((A * 2) + (B * 3)+(C * 5) / 10)\n",
    "\n",
    "print(\"MEDIA = %0.1f\" %media)"
   ]
  }
 ],
 "metadata": {
  "kernelspec": {
   "display_name": "Python 3",
   "language": "python",
   "name": "python3"
  },
  "language_info": {
   "codemirror_mode": {
    "name": "ipython",
    "version": 3
   },
   "file_extension": ".py",
   "mimetype": "text/x-python",
   "name": "python",
   "nbconvert_exporter": "python",
   "pygments_lexer": "ipython3",
   "version": "3.8.3"
  }
 },
 "nbformat": 4,
 "nbformat_minor": 4
}
